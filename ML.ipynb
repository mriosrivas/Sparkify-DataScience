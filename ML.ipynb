{
 "cells": [
  {
   "cell_type": "markdown",
   "id": "e07f0e79",
   "metadata": {},
   "source": [
    "# ML Modeling\n",
    "\n",
    "This Jupyter Notebook demonstrates the process of training three different machine learning classifiers - logistic regression, random forest, and naive Bayes classifier. The aim is to compare the performance of these classifiers based on their ROC curves and confusion matrices. The dataset used for this task is clean_data, which was previously cleaned and processed in the EDA.ipynb notebook.\n",
    "\n",
    "## Data Loading\n",
    "\n",
    "The first step in this process is to load the clean_data from the EDA.ipynb notebook. This dataset should have been saved in a file format such as CSV, so it can be easily loaded into the current notebook using a data loading function or library.\n",
    "\n",
    "## Data Preparation\n",
    "\n",
    "Before training the models, the data needs to be prepared by creating a VectorAssembler object. This object will take in all the features and merge them into a single vector. This is required by some of the machine learning models, including logistic regression and naive Bayes classifier.\n",
    "\n",
    "After creating the VectorAssembler object, the data is split into training and test sets. The training data will be used to train the models, while the test data will be used to evaluate their performance.\n",
    "\n",
    "## Model Training\n",
    "\n",
    "With the data prepared, the next step is to train the three machine learning models - logistic regression, random forest, and naive Bayes classifier. Each of these models will be trained using the training data set.\n",
    "\n",
    "## Model Comparison\n",
    "\n",
    "Once the models have been trained, their ROC curves are compared. The ROC curve is a graphical representation of the performance of a classifier. A good classifier will have a curve that is close to the upper left corner of the plot. This indicates that the classifier has a high true positive rate and a low false positive rate.\n",
    "\n",
    "After comparing the ROC curves, the confusion matrix is calculated for each model. The confusion matrix is a table that summarizes the performance of a classifier. It shows the number of true positives, false positives, true negatives, and false negatives.\n",
    "\n",
    "## Conclusion\n",
    "\n",
    "In this Jupyter Notebook, we have demonstrated the process of training three different machine learning classifiers and comparing their performance based on their ROC curves and confusion matrices. The logistic regression, random forest, and naive Bayes classifier models were trained using the clean_data dataset that was loaded from the EDA.ipynb notebook. The performance of these models was compared using their ROC curves and confusion matrices, and the results were evaluated to determine which model performed best for the given dataset."
   ]
  },
  {
   "cell_type": "code",
   "execution_count": 1,
   "id": "16fbcca2",
   "metadata": {},
   "outputs": [],
   "source": [
    "# Starter code\n",
    "import matplotlib.pyplot as plt\n",
    "\n",
    "from pyspark.sql import SparkSession\n",
    "from pyspark.sql.functions import col, count, udf\n",
    "from pyspark.sql.functions import max as fmax, min as fmin\n",
    "from pyspark.sql.types import IntegerType, FloatType"
   ]
  },
  {
   "cell_type": "code",
   "execution_count": 2,
   "id": "04b67abd",
   "metadata": {},
   "outputs": [],
   "source": [
    "from pyspark.ml.feature import VectorAssembler\n",
    "from pyspark.ml.classification import LogisticRegression, RandomForestClassifier, NaiveBayes\n",
    "from pyspark.mllib.evaluation import MulticlassMetrics\n",
    "\n",
    "from pyspark.ml.evaluation import BinaryClassificationEvaluator"
   ]
  },
  {
   "cell_type": "code",
   "execution_count": 3,
   "id": "9f970488",
   "metadata": {},
   "outputs": [],
   "source": [
    "from CurveMetrics import CurveMetrics"
   ]
  },
  {
   "cell_type": "code",
   "execution_count": 4,
   "id": "cfd8477a",
   "metadata": {},
   "outputs": [
    {
     "name": "stdout",
     "output_type": "stream",
     "text": [
      "23/03/11 16:22:03 WARN Utils: Your hostname, pop-os resolves to a loopback address: 127.0.1.1; using 192.168.248.232 instead (on interface wlp110s0)\n",
      "23/03/11 16:22:03 WARN Utils: Set SPARK_LOCAL_IP if you need to bind to another address\n"
     ]
    },
    {
     "name": "stderr",
     "output_type": "stream",
     "text": [
      "Setting default log level to \"WARN\".\n",
      "To adjust logging level use sc.setLogLevel(newLevel). For SparkR, use setLogLevel(newLevel).\n"
     ]
    },
    {
     "name": "stdout",
     "output_type": "stream",
     "text": [
      "23/03/11 16:22:03 WARN NativeCodeLoader: Unable to load native-hadoop library for your platform... using builtin-java classes where applicable\n",
      "23/03/11 16:22:04 WARN Utils: Service 'SparkUI' could not bind on port 4040. Attempting port 4041.\n",
      "23/03/11 16:22:04 WARN Utils: Service 'SparkUI' could not bind on port 4041. Attempting port 4042.\n",
      "23/03/11 16:22:04 WARN Utils: Service 'SparkUI' could not bind on port 4042. Attempting port 4043.\n"
     ]
    }
   ],
   "source": [
    "# Create spark session\n",
    "spark = SparkSession \\\n",
    "    .builder \\\n",
    "    .appName(\"Sparkify\") \\\n",
    "    .getOrCreate()"
   ]
  },
  {
   "cell_type": "code",
   "execution_count": 5,
   "id": "3236272d",
   "metadata": {},
   "outputs": [],
   "source": [
    "spark.conf.set(\"spark.sql.repl.eagerEval.enabled\", True)"
   ]
  },
  {
   "cell_type": "code",
   "execution_count": 6,
   "id": "51d48b4b",
   "metadata": {},
   "outputs": [],
   "source": [
    "# Read in full sparkify dataset\n",
    "# Full dataset\n",
    "# event_data = \"s3n://udacity-dsnd/sparkify/sparkify_event_data.json\"\n",
    "event_data = \"clean_data/part-00000-641e06ab-b8b2-4a90-b032-f1f5a8577ef8-c000.csv\"\n",
    "# Mini dataset\n",
    "#event_data = \"mini_sparkify_event_data.json\"\n",
    "df = spark.read.csv(event_data, header=True)"
   ]
  },
  {
   "cell_type": "code",
   "execution_count": 7,
   "id": "14138d28",
   "metadata": {},
   "outputs": [],
   "source": [
    "features = ['n_pages', \n",
    "            'thumbs_down', \n",
    "            'home', \n",
    "            'downgrade', \n",
    "            'roll_advert', \n",
    "            'about', \n",
    "            'add_playlist', \n",
    "            'nextsong', \n",
    "            'thumbs_up', \n",
    "            'error', \n",
    "            'submit_upgrade', \n",
    "            'total_length']"
   ]
  },
  {
   "cell_type": "code",
   "execution_count": 8,
   "id": "2baa11f9",
   "metadata": {},
   "outputs": [],
   "source": [
    "# Cast data to integers\n",
    "for i in range(len(features)):\n",
    "    df = df.withColumn(features[i] , df[features[i]].cast(IntegerType()))\n",
    "    \n",
    "df = df.withColumn('label' , df['label'].cast(IntegerType()))"
   ]
  },
  {
   "cell_type": "code",
   "execution_count": 9,
   "id": "efe80c7f",
   "metadata": {},
   "outputs": [
    {
     "name": "stdout",
     "output_type": "stream",
     "text": [
      "root\n",
      " |-- userId: string (nullable = true)\n",
      " |-- n_pages: integer (nullable = true)\n",
      " |-- thumbs_down: integer (nullable = true)\n",
      " |-- home: integer (nullable = true)\n",
      " |-- downgrade: integer (nullable = true)\n",
      " |-- roll_advert: integer (nullable = true)\n",
      " |-- about: integer (nullable = true)\n",
      " |-- add_playlist: integer (nullable = true)\n",
      " |-- nextsong: integer (nullable = true)\n",
      " |-- thumbs_up: integer (nullable = true)\n",
      " |-- error: integer (nullable = true)\n",
      " |-- submit_upgrade: integer (nullable = true)\n",
      " |-- total_length: integer (nullable = true)\n",
      " |-- label: integer (nullable = true)\n",
      "\n"
     ]
    }
   ],
   "source": [
    "df.printSchema()"
   ]
  },
  {
   "cell_type": "code",
   "execution_count": 10,
   "id": "d688193c",
   "metadata": {},
   "outputs": [],
   "source": [
    "# Vector Assembler\n",
    "assembler = VectorAssembler(inputCols=features, outputCol='features')\n",
    "df = assembler.transform(df)"
   ]
  },
  {
   "cell_type": "code",
   "execution_count": 11,
   "id": "7fe2420c",
   "metadata": {},
   "outputs": [],
   "source": [
    "data = df.select(col('label'), col('features'))"
   ]
  },
  {
   "cell_type": "code",
   "execution_count": 12,
   "id": "b1427b51",
   "metadata": {},
   "outputs": [],
   "source": [
    "# Split data into training and test data\n",
    "train, test = data.randomSplit([0.9, 0.1], seed=42)"
   ]
  },
  {
   "cell_type": "code",
   "execution_count": 13,
   "id": "d94b754c",
   "metadata": {},
   "outputs": [
    {
     "name": "stderr",
     "output_type": "stream",
     "text": [
      "                                                                                \r"
     ]
    }
   ],
   "source": [
    "# Logistic regression\n",
    "lr = LogisticRegression()\n",
    "lrModel = lr.fit(train)\n",
    "\n",
    "# Random Forest\n",
    "rf = RandomForestClassifier()\n",
    "rfModel = rf.fit(train)\n",
    "\n",
    "# Naive Bayes\n",
    "nb = NaiveBayes()\n",
    "nbModel = nb.fit(train)"
   ]
  },
  {
   "cell_type": "code",
   "execution_count": 14,
   "id": "92240899",
   "metadata": {},
   "outputs": [
    {
     "data": {
      "text/html": [
       "<table border='1'>\n",
       "<tr><th>label</th><th>features</th><th>rawPrediction</th><th>probability</th><th>prediction</th></tr>\n",
       "<tr><td>0</td><td>(12,[0,1,2,4,7,11...</td><td>[-221.59303798145...</td><td>[0.75843309110217...</td><td>0.0</td></tr>\n",
       "<tr><td>0</td><td>(12,[0,1,2,4,7,11...</td><td>[-272.97534601314...</td><td>[0.76124500185073...</td><td>0.0</td></tr>\n",
       "<tr><td>0</td><td>(12,[0,1,2,7,8,11...</td><td>[-386.94495601567...</td><td>[0.76645236484021...</td><td>0.0</td></tr>\n",
       "<tr><td>0</td><td>(12,[0,1,2,7,11],...</td><td>[-108.00059919369...</td><td>[0.76280601383043...</td><td>0.0</td></tr>\n",
       "<tr><td>0</td><td>(12,[0,1,4,7,8,11...</td><td>[-631.32961601553...</td><td>[0.75451882498922...</td><td>0.0</td></tr>\n",
       "<tr><td>0</td><td>(12,[0,2],[1.0,1.0])</td><td>[-14.219797442970...</td><td>[0.77002187679423...</td><td>0.0</td></tr>\n",
       "<tr><td>0</td><td>(12,[0,2,3,6,7,11...</td><td>[-536.70583081301...</td><td>[0.6955309713495,...</td><td>0.0</td></tr>\n",
       "<tr><td>0</td><td>(12,[0,2,3,6,7,11...</td><td>[-603.46088708032...</td><td>[0.69272123989684...</td><td>0.0</td></tr>\n",
       "<tr><td>0</td><td>(12,[0,2,3,7,8,11...</td><td>[-807.22550490496...</td><td>[0.75959600754192...</td><td>0.0</td></tr>\n",
       "<tr><td>0</td><td>(12,[0,2,4,6,7,11...</td><td>[-276.36912178957...</td><td>[0.78086188922126...</td><td>0.0</td></tr>\n",
       "<tr><td>0</td><td>(12,[0,2,4,6,7,11...</td><td>[-368.90597052055...</td><td>[0.76594084501109...</td><td>0.0</td></tr>\n",
       "<tr><td>0</td><td>(12,[0,2,4,6,7,11...</td><td>[-523.18213175364...</td><td>[0.76196970117589...</td><td>0.0</td></tr>\n",
       "<tr><td>0</td><td>(12,[0,2,4,6,7,11...</td><td>[-608.63783830705...</td><td>[0.75697606756871...</td><td>0.0</td></tr>\n",
       "<tr><td>0</td><td>(12,[0,2,4,6,7,11...</td><td>[-837.79485826460...</td><td>[0.75992950826814...</td><td>0.0</td></tr>\n",
       "<tr><td>0</td><td>(12,[0,2,4,7,8,11...</td><td>[-147.85691951063...</td><td>[0.78185858610241...</td><td>0.0</td></tr>\n",
       "<tr><td>0</td><td>(12,[0,2,4,7,8,11...</td><td>[-160.21245471383...</td><td>[0.78191693797300...</td><td>0.0</td></tr>\n",
       "<tr><td>0</td><td>(12,[0,2,4,7,8,11...</td><td>[-275.32552834513...</td><td>[0.80063248191031...</td><td>0.0</td></tr>\n",
       "<tr><td>0</td><td>(12,[0,2,4,7,8,11...</td><td>[-312.70636591469...</td><td>[0.77705790567020...</td><td>0.0</td></tr>\n",
       "<tr><td>0</td><td>(12,[0,2,4,7,8,11...</td><td>[-334.23296958763...</td><td>[0.77595673385604...</td><td>0.0</td></tr>\n",
       "<tr><td>0</td><td>(12,[0,2,4,7,8,11...</td><td>[-389.03547371851...</td><td>[0.79848284475103...</td><td>0.0</td></tr>\n",
       "</table>\n",
       "only showing top 20 rows\n"
      ],
      "text/plain": [
       "+-----+--------------------+--------------------+--------------------+----------+\n",
       "|label|            features|       rawPrediction|         probability|prediction|\n",
       "+-----+--------------------+--------------------+--------------------+----------+\n",
       "|    0|(12,[0,1,2,4,7,11...|[-221.59303798145...|[0.75843309110217...|       0.0|\n",
       "|    0|(12,[0,1,2,4,7,11...|[-272.97534601314...|[0.76124500185073...|       0.0|\n",
       "|    0|(12,[0,1,2,7,8,11...|[-386.94495601567...|[0.76645236484021...|       0.0|\n",
       "|    0|(12,[0,1,2,7,11],...|[-108.00059919369...|[0.76280601383043...|       0.0|\n",
       "|    0|(12,[0,1,4,7,8,11...|[-631.32961601553...|[0.75451882498922...|       0.0|\n",
       "|    0|(12,[0,2],[1.0,1.0])|[-14.219797442970...|[0.77002187679423...|       0.0|\n",
       "|    0|(12,[0,2,3,6,7,11...|[-536.70583081301...|[0.6955309713495,...|       0.0|\n",
       "|    0|(12,[0,2,3,6,7,11...|[-603.46088708032...|[0.69272123989684...|       0.0|\n",
       "|    0|(12,[0,2,3,7,8,11...|[-807.22550490496...|[0.75959600754192...|       0.0|\n",
       "|    0|(12,[0,2,4,6,7,11...|[-276.36912178957...|[0.78086188922126...|       0.0|\n",
       "|    0|(12,[0,2,4,6,7,11...|[-368.90597052055...|[0.76594084501109...|       0.0|\n",
       "|    0|(12,[0,2,4,6,7,11...|[-523.18213175364...|[0.76196970117589...|       0.0|\n",
       "|    0|(12,[0,2,4,6,7,11...|[-608.63783830705...|[0.75697606756871...|       0.0|\n",
       "|    0|(12,[0,2,4,6,7,11...|[-837.79485826460...|[0.75992950826814...|       0.0|\n",
       "|    0|(12,[0,2,4,7,8,11...|[-147.85691951063...|[0.78185858610241...|       0.0|\n",
       "|    0|(12,[0,2,4,7,8,11...|[-160.21245471383...|[0.78191693797300...|       0.0|\n",
       "|    0|(12,[0,2,4,7,8,11...|[-275.32552834513...|[0.80063248191031...|       0.0|\n",
       "|    0|(12,[0,2,4,7,8,11...|[-312.70636591469...|[0.77705790567020...|       0.0|\n",
       "|    0|(12,[0,2,4,7,8,11...|[-334.23296958763...|[0.77595673385604...|       0.0|\n",
       "|    0|(12,[0,2,4,7,8,11...|[-389.03547371851...|[0.79848284475103...|       0.0|\n",
       "+-----+--------------------+--------------------+--------------------+----------+\n",
       "only showing top 20 rows"
      ]
     },
     "execution_count": 14,
     "metadata": {},
     "output_type": "execute_result"
    }
   ],
   "source": [
    "nbModel.transform(test)"
   ]
  },
  {
   "cell_type": "code",
   "execution_count": 15,
   "id": "de71b919",
   "metadata": {},
   "outputs": [
    {
     "name": "stderr",
     "output_type": "stream",
     "text": [
      "/home/manuel/anaconda3/envs/data-analysis/lib/python3.8/site-packages/pyspark/sql/context.py:157: FutureWarning: Deprecated in 3.0.0. Use SparkSession.builder.getOrCreate() instead.\n",
      "  warnings.warn(\n",
      "                                                                                \r"
     ]
    }
   ],
   "source": [
    "# ROC Curve\n",
    "def get_roc(model, data):\n",
    "    \"\"\"\n",
    "    Auxiliary function to calculate roc values of a model.\n",
    "    \"\"\"\n",
    "    preds = model.transform(data).select('label','probability').rdd.map(lambda row: (float(row['probability'][1]), float(row['label'])))\n",
    "    points = CurveMetrics(preds).get_curve('roc')\n",
    "\n",
    "    fpr = [x[0] for x in points]\n",
    "    tpr = [x[1] for x in points]\n",
    "\n",
    "    return fpr, tpr\n",
    "\n",
    "roc_lr = lrModel.summary.roc.toPandas()\n",
    "roc_rf = rfModel.summary.roc.toPandas()\n",
    "fpr_nb, tpr_nb = get_roc(nbModel, train)"
   ]
  },
  {
   "cell_type": "code",
   "execution_count": 16,
   "id": "648d471d",
   "metadata": {},
   "outputs": [
    {
     "data": {
      "image/png": "[encoded data removed]",
      "text/plain": [
       "<Figure size 432x288 with 1 Axes>"
      ]
     },
     "metadata": {
      "needs_background": "light"
     },
     "output_type": "display_data"
    }
   ],
   "source": [
    "plt.plot(roc_lr['FPR'].values, roc_lr['TPR'].values, label='logistic regression')\n",
    "plt.plot(roc_rf['FPR'].values, roc_rf['TPR'].values, label='random forest')\n",
    "plt.plot(fpr_nb, tpr_nb, label='naive bayes')\n",
    "plt.title('ROC Curve')\n",
    "plt.xlabel('False Positive Rate')\n",
    "plt.ylabel('True Positive Rate')\n",
    "plt.grid('on')\n",
    "plt.legend()\n",
    "plt.show()"
   ]
  },
  {
   "cell_type": "code",
   "execution_count": 17,
   "id": "e727d7e0",
   "metadata": {},
   "outputs": [],
   "source": [
    "# Prediction\n",
    "pred_lr = lrModel.transform(test)\n",
    "pred_rf = rfModel.transform(test)\n",
    "pred_nb = nbModel.transform(test)"
   ]
  },
  {
   "cell_type": "code",
   "execution_count": 18,
   "id": "5e4aa08b",
   "metadata": {},
   "outputs": [],
   "source": [
    "# Confusion Matrix\n",
    "def get_confusion_matrix(pred):\n",
    "    #important: need to cast to float type, and order by prediction, else it won't work\n",
    "    preds_and_labels = pred.select(['prediction','label'])\\\n",
    "                        .withColumn('label', col('label').cast(FloatType()))\\\n",
    "                        .orderBy('prediction')\n",
    "\n",
    "    #select only prediction and label columns\n",
    "    preds_and_labels = preds_and_labels.select(['prediction','label'])\n",
    "\n",
    "    metrics = MulticlassMetrics(preds_and_labels.rdd.map(tuple))\n",
    "    \n",
    "    return metrics"
   ]
  },
  {
   "cell_type": "code",
   "execution_count": 19,
   "id": "c5dea971",
   "metadata": {},
   "outputs": [
    {
     "name": "stderr",
     "output_type": "stream",
     "text": [
      "/home/manuel/anaconda3/envs/data-analysis/lib/python3.8/site-packages/pyspark/sql/context.py:157: FutureWarning: Deprecated in 3.0.0. Use SparkSession.builder.getOrCreate() instead.\n",
      "  warnings.warn(\n"
     ]
    }
   ],
   "source": [
    "metrics_lr = get_confusion_matrix(pred_lr)\n",
    "metrics_rf = get_confusion_matrix(pred_rf)\n",
    "metrics_nb = get_confusion_matrix(pred_nb)"
   ]
  },
  {
   "cell_type": "code",
   "execution_count": 20,
   "id": "ae5f6163",
   "metadata": {},
   "outputs": [
    {
     "name": "stdout",
     "output_type": "stream",
     "text": [
      "Logistic Regression\n",
      "[[1674   47]\n",
      " [ 218  282]]\n",
      "\n",
      " Random Forest\n",
      "[[1721    0]\n",
      " [ 261  239]]\n",
      "\n",
      " Naive Bayes\n",
      "[[1533  188]\n",
      " [ 351  149]]\n"
     ]
    }
   ],
   "source": [
    "print('Logistic Regression')\n",
    "print(metrics_lr.confusionMatrix().toArray().astype('int'))\n",
    "\n",
    "print('\\n Random Forest')\n",
    "print(metrics_rf.confusionMatrix().toArray().astype('int'))\n",
    "\n",
    "print('\\n Naive Bayes')\n",
    "print(metrics_nb.confusionMatrix().toArray().astype('int'))"
   ]
  },
  {
   "cell_type": "code",
   "execution_count": null,
   "id": "087f0451",
   "metadata": {},
   "outputs": [],
   "source": []
  }
 ],
 "metadata": {
  "kernelspec": {
   "display_name": "Python 3 (ipykernel)",
   "language": "python",
   "name": "python3"
  },
  "language_info": {
   "codemirror_mode": {
    "name": "ipython",
    "version": 3
   },
   "file_extension": ".py",
   "mimetype": "text/x-python",
   "name": "python",
   "nbconvert_exporter": "python",
   "pygments_lexer": "ipython3",
   "version": "3.8.15"
  }
 },
 "nbformat": 4,
 "nbformat_minor": 5
}
