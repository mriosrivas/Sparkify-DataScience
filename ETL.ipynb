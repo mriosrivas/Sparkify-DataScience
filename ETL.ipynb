{
 "cells": [
  {
   "cell_type": "markdown",
   "id": "945e9362",
   "metadata": {},
   "source": [
    "## ETL on Sparkify Event Data\n",
    "\n",
    "This Jupyter notebook performs ETL on the Sparkify event data in JSON format. The purpose of this notebook is to clean and transform the data so that it can be used for further analysis.\n",
    "\n",
    "### Step 1: Load the Data\n",
    "\n",
    "The first step is to load the data into PySpark using the `spark.read.json()` function. We will load the data from the `sparkify_event_data.json` file and store it in a DataFrame called `df`.\n",
    "\n",
    "### Step 2: Data Cleaning\n",
    "\n",
    "The next step is to clean the data. We will perform the following cleaning steps:\n",
    "\n",
    "#### Remove Null Values\n",
    "\n",
    "We will remove any rows that contain null values.\n",
    "\n",
    "#### Select Users that had the 'paid' Level\n",
    "\n",
    "We will select only the users who had a 'paid' level using the PySpark SQL functions. We will create a new DataFrame called `df_filter` that contains only the relevant rows.\n",
    "\n",
    "### Step 3: Create a Table of Occurrences\n",
    "\n",
    "Next, we will create a table that counts the number of occurrences for the cleaned group using the PySpark SQL functions. We will create a new DataFrame called `data` that contains the counts.\n",
    "\n",
    "### Step 4: Convert Gender and Churn into Numbers\n",
    "Then, we will convert the genders into a numeric form, where `male` will ve assgined a value of `1` and `female` a value of `0`. In the case of churning, a column named `label` will be created if a `submit_downgrade` is greater than `1`.\n",
    "\n",
    "### Step 5: Store the Data\n",
    "\n",
    "Finally, we will store the data as a single CSV file in the `features/` folder. \n",
    "\n",
    "## Conclusion\n",
    "\n",
    "This notebook demonstrates how to perform ETL on a big dataset using PySpark and SQL. By following the steps outlined in this notebook, you can clean and transform your data for further analysis.\n"
   ]
  },
  {
   "cell_type": "code",
   "execution_count": 1,
   "id": "448eef4d",
   "metadata": {},
   "outputs": [],
   "source": [
    "# Starter code\n",
    "from pyspark.sql import SparkSession\n",
    "\n",
    "from pyspark.sql.functions import col, count, udf\n",
    "from pyspark.sql.functions import max as fmax, min as fmin\n",
    "from pyspark.sql.types import IntegerType"
   ]
  },
  {
   "cell_type": "code",
   "execution_count": 2,
   "id": "bf186d51",
   "metadata": {},
   "outputs": [
    {
     "name": "stdout",
     "output_type": "stream",
     "text": [
      "23/03/11 16:04:31 WARN Utils: Your hostname, pop-os resolves to a loopback address: 127.0.1.1; using 192.168.248.232 instead (on interface wlp110s0)\n",
      "23/03/11 16:04:31 WARN Utils: Set SPARK_LOCAL_IP if you need to bind to another address\n"
     ]
    },
    {
     "name": "stderr",
     "output_type": "stream",
     "text": [
      "Setting default log level to \"WARN\".\n",
      "To adjust logging level use sc.setLogLevel(newLevel). For SparkR, use setLogLevel(newLevel).\n"
     ]
    },
    {
     "name": "stdout",
     "output_type": "stream",
     "text": [
      "23/03/11 16:04:32 WARN NativeCodeLoader: Unable to load native-hadoop library for your platform... using builtin-java classes where applicable\n",
      "23/03/11 16:04:33 WARN Utils: Service 'SparkUI' could not bind on port 4040. Attempting port 4041.\n"
     ]
    }
   ],
   "source": [
    "# Create spark session\n",
    "spark = SparkSession \\\n",
    "    .builder \\\n",
    "    .appName(\"Sparkify\") \\\n",
    "    .getOrCreate()"
   ]
  },
  {
   "cell_type": "code",
   "execution_count": 3,
   "id": "6c910bc6",
   "metadata": {},
   "outputs": [],
   "source": [
    "spark.conf.set(\"spark.sql.repl.eagerEval.enabled\", True)"
   ]
  },
  {
   "cell_type": "code",
   "execution_count": 4,
   "id": "23cbc36b",
   "metadata": {
    "scrolled": true
   },
   "outputs": [
    {
     "name": "stderr",
     "output_type": "stream",
     "text": [
      "                                                                                \r"
     ]
    }
   ],
   "source": [
    "# Read in full sparkify dataset\n",
    "# Full dataset\n",
    "# event_data = \"s3n://udacity-dsnd/sparkify/sparkify_event_data.json\"\n",
    "event_data = \"sparkify_event_data.json\"\n",
    "# Mini dataset\n",
    "#event_data = \"mini_sparkify_event_data.json\"\n",
    "df = spark.read.json(event_data)"
   ]
  },
  {
   "cell_type": "code",
   "execution_count": 5,
   "id": "0dfe0dea",
   "metadata": {},
   "outputs": [],
   "source": [
    "# We create a temp table named sparkify_data\n",
    "df.createOrReplaceTempView(\"sparkify_data\")"
   ]
  },
  {
   "cell_type": "code",
   "execution_count": 6,
   "id": "d13def4d",
   "metadata": {},
   "outputs": [
    {
     "name": "stdout",
     "output_type": "stream",
     "text": [
      "root\n",
      " |-- artist: string (nullable = true)\n",
      " |-- auth: string (nullable = true)\n",
      " |-- firstName: string (nullable = true)\n",
      " |-- gender: string (nullable = true)\n",
      " |-- itemInSession: long (nullable = true)\n",
      " |-- lastName: string (nullable = true)\n",
      " |-- length: double (nullable = true)\n",
      " |-- level: string (nullable = true)\n",
      " |-- location: string (nullable = true)\n",
      " |-- method: string (nullable = true)\n",
      " |-- page: string (nullable = true)\n",
      " |-- registration: long (nullable = true)\n",
      " |-- sessionId: long (nullable = true)\n",
      " |-- song: string (nullable = true)\n",
      " |-- status: long (nullable = true)\n",
      " |-- ts: long (nullable = true)\n",
      " |-- userAgent: string (nullable = true)\n",
      " |-- userId: string (nullable = true)\n",
      "\n"
     ]
    }
   ],
   "source": [
    "df.printSchema()"
   ]
  },
  {
   "cell_type": "code",
   "execution_count": 7,
   "id": "079cf5d5",
   "metadata": {},
   "outputs": [
    {
     "name": "stderr",
     "output_type": "stream",
     "text": [
      "                                                                                \r"
     ]
    }
   ],
   "source": [
    "number_of_users = spark.sql(\"\"\"\n",
    "        SELECT COUNT(DISTINCT(userId)) FROM sparkify_data\n",
    "        \"\"\").collect()"
   ]
  },
  {
   "cell_type": "code",
   "execution_count": 8,
   "id": "22dceb45",
   "metadata": {},
   "outputs": [
    {
     "name": "stdout",
     "output_type": "stream",
     "text": [
      "Number of users = 22278\n"
     ]
    }
   ],
   "source": [
    "print(f'Number of users = {number_of_users[0][0]}')"
   ]
  },
  {
   "cell_type": "code",
   "execution_count": 9,
   "id": "6023fe3a",
   "metadata": {},
   "outputs": [
    {
     "name": "stderr",
     "output_type": "stream",
     "text": [
      "                                                                                \r"
     ]
    },
    {
     "data": {
      "text/html": [
       "<table border='1'>\n",
       "<tr><th>page</th><th>count</th></tr>\n",
       "<tr><td>Cancel</td><td>5003</td></tr>\n",
       "<tr><td>Submit Downgrade</td><td>5103</td></tr>\n",
       "<tr><td>Thumbs Down</td><td>20031</td></tr>\n",
       "<tr><td>Home</td><td>22073</td></tr>\n",
       "<tr><td>Downgrade</td><td>15209</td></tr>\n",
       "<tr><td>Roll Advert</td><td>20068</td></tr>\n",
       "<tr><td>Logout</td><td>21160</td></tr>\n",
       "<tr><td>Save Settings</td><td>12237</td></tr>\n",
       "<tr><td>Cancellation Conf...</td><td>5003</td></tr>\n",
       "<tr><td>About</td><td>14461</td></tr>\n",
       "<tr><td>Settings</td><td>18933</td></tr>\n",
       "<tr><td>Add to Playlist</td><td>21260</td></tr>\n",
       "<tr><td>Add Friend</td><td>20305</td></tr>\n",
       "<tr><td>NextSong</td><td>22261</td></tr>\n",
       "<tr><td>Thumbs Up</td><td>21732</td></tr>\n",
       "<tr><td>Help</td><td>18244</td></tr>\n",
       "<tr><td>Upgrade</td><td>16151</td></tr>\n",
       "<tr><td>Error</td><td>11273</td></tr>\n",
       "<tr><td>Submit Upgrade</td><td>12082</td></tr>\n",
       "<tr><td>Submit Registration</td><td>1</td></tr>\n",
       "</table>\n",
       "only showing top 20 rows\n"
      ],
      "text/plain": [
       "+--------------------+-----+\n",
       "|                page|count|\n",
       "+--------------------+-----+\n",
       "|              Cancel| 5003|\n",
       "|    Submit Downgrade| 5103|\n",
       "|         Thumbs Down|20031|\n",
       "|                Home|22073|\n",
       "|           Downgrade|15209|\n",
       "|         Roll Advert|20068|\n",
       "|              Logout|21160|\n",
       "|       Save Settings|12237|\n",
       "|Cancellation Conf...| 5003|\n",
       "|               About|14461|\n",
       "|            Settings|18933|\n",
       "|     Add to Playlist|21260|\n",
       "|          Add Friend|20305|\n",
       "|            NextSong|22261|\n",
       "|           Thumbs Up|21732|\n",
       "|                Help|18244|\n",
       "|             Upgrade|16151|\n",
       "|               Error|11273|\n",
       "|      Submit Upgrade|12082|\n",
       "| Submit Registration|    1|\n",
       "+--------------------+-----+\n",
       "only showing top 20 rows"
      ]
     },
     "execution_count": 9,
     "metadata": {},
     "output_type": "execute_result"
    }
   ],
   "source": [
    "spark.sql(\"\"\"\n",
    "        WITH events AS(\n",
    "        SELECT userID, page, COUNT(page) FROM sparkify_data\n",
    "        GROUP BY userId, page)\n",
    "        \n",
    "        SELECT page, COUNT(page) AS count FROM events\n",
    "        GROUP BY page\n",
    "        \"\"\")"
   ]
  },
  {
   "cell_type": "code",
   "execution_count": 10,
   "id": "9a63ab2e",
   "metadata": {},
   "outputs": [
    {
     "name": "stderr",
     "output_type": "stream",
     "text": [
      "                                                                                \r"
     ]
    },
    {
     "data": {
      "text/html": [
       "<table border='1'>\n",
       "<tr><th>artist_null_count</th><th>auth_null_count</th><th>firstName_null_count</th><th>gender_null_count</th><th>itemInSession_null_count</th><th>lastName_null_count</th><th>length_null_count</th><th>level_null_count</th><th>location_null_count</th><th>method_null_count</th><th>page_null_count</th><th>registration_null_count</th><th>sessionId_null_count</th><th>song_null_count</th><th>status_null_count</th><th>ts_null_count</th><th>userAgent_null_count</th><th>userId_null_count</th></tr>\n",
       "<tr><td>5408927</td><td>0</td><td>778479</td><td>778479</td><td>0</td><td>778479</td><td>5408927</td><td>0</td><td>778479</td><td>0</td><td>0</td><td>778479</td><td>0</td><td>5408927</td><td>0</td><td>0</td><td>778479</td><td>0</td></tr>\n",
       "</table>\n"
      ],
      "text/plain": [
       "+-----------------+---------------+--------------------+-----------------+------------------------+-------------------+-----------------+----------------+-------------------+-----------------+---------------+-----------------------+--------------------+---------------+-----------------+-------------+--------------------+-----------------+\n",
       "|artist_null_count|auth_null_count|firstName_null_count|gender_null_count|itemInSession_null_count|lastName_null_count|length_null_count|level_null_count|location_null_count|method_null_count|page_null_count|registration_null_count|sessionId_null_count|song_null_count|status_null_count|ts_null_count|userAgent_null_count|userId_null_count|\n",
       "+-----------------+---------------+--------------------+-----------------+------------------------+-------------------+-----------------+----------------+-------------------+-----------------+---------------+-----------------------+--------------------+---------------+-----------------+-------------+--------------------+-----------------+\n",
       "|          5408927|              0|              778479|           778479|                       0|             778479|          5408927|               0|             778479|                0|              0|                 778479|                   0|        5408927|                0|            0|              778479|                0|\n",
       "+-----------------+---------------+--------------------+-----------------+------------------------+-------------------+-----------------+----------------+-------------------+-----------------+---------------+-----------------------+--------------------+---------------+-----------------+-------------+--------------------+-----------------+"
      ]
     },
     "execution_count": 10,
     "metadata": {},
     "output_type": "execute_result"
    }
   ],
   "source": [
    "spark.sql(\"\"\"\n",
    "            SELECT COUNT(CASE WHEN artist IS NULL THEN 1 END) AS artist_null_count,\n",
    "            COUNT(CASE WHEN auth IS NULL THEN 1 END) AS auth_null_count,\n",
    "            COUNT(CASE WHEN firstName IS NULL THEN 1 END) AS firstName_null_count,\n",
    "            COUNT(CASE WHEN gender IS NULL THEN 1 END) AS gender_null_count,\n",
    "            COUNT(CASE WHEN itemInSession IS NULL THEN 1 END) AS itemInSession_null_count,\n",
    "            COUNT(CASE WHEN lastName IS NULL THEN 1 END) AS lastName_null_count,\n",
    "            COUNT(CASE WHEN length IS NULL THEN 1 END) AS length_null_count,\n",
    "            COUNT(CASE WHEN level IS NULL THEN 1 END) AS level_null_count,\n",
    "            COUNT(CASE WHEN location IS NULL THEN 1 END) AS location_null_count,\n",
    "            COUNT(CASE WHEN method IS NULL THEN 1 END) AS method_null_count,\n",
    "            COUNT(CASE WHEN page IS NULL THEN 1 END) AS page_null_count,\n",
    "            COUNT(CASE WHEN registration IS NULL THEN 1 END) AS registration_null_count,\n",
    "            COUNT(CASE WHEN sessionId IS NULL THEN 1 END) AS sessionId_null_count,\n",
    "            COUNT(CASE WHEN song IS NULL THEN 1 END) AS song_null_count,\n",
    "            COUNT(CASE WHEN status IS NULL THEN 1 END) AS status_null_count,\n",
    "            COUNT(CASE WHEN ts IS NULL THEN 1 END) AS ts_null_count,\n",
    "            COUNT(CASE WHEN userAgent IS NULL THEN 1 END) AS userAgent_null_count,\n",
    "            COUNT(CASE WHEN userId IS NULL THEN 1 END) AS userId_null_count\n",
    "            FROM sparkify_data\n",
    "    \"\"\")"
   ]
  },
  {
   "cell_type": "code",
   "execution_count": 11,
   "id": "a5cdec88",
   "metadata": {},
   "outputs": [
    {
     "name": "stderr",
     "output_type": "stream",
     "text": [
      "[Stage 28:=====================================================>  (91 + 5) / 96]\r"
     ]
    },
    {
     "name": "stdout",
     "output_type": "stream",
     "text": [
      "The number of entries to remove is = 6186719\n",
      "The percentage of data removed is = 23.56%\n"
     ]
    },
    {
     "name": "stderr",
     "output_type": "stream",
     "text": [
      "\r",
      "                                                                                \r"
     ]
    }
   ],
   "source": [
    "# We want to remove null values and free users from our dataset\n",
    "entries_to_remove = spark.sql(\"\"\"\n",
    "        SELECT COUNT(*) FROM sparkify_data\n",
    "        WHERE gender IS NULL OR level != 'paid'\n",
    "        \"\"\").collect()\n",
    "\n",
    "removed_percentage = entries_to_remove[0][0]/df.count()*100\n",
    "\n",
    "print(f'The number of entries to remove is = {entries_to_remove[0][0]}')\n",
    "print(f'The percentage of data removed is = {removed_percentage:.4n}%')\n"
   ]
  },
  {
   "cell_type": "code",
   "execution_count": 12,
   "id": "6c7de266",
   "metadata": {},
   "outputs": [],
   "source": [
    "df_filter = spark.sql(\"\"\"\n",
    "            SELECT * FROM sparkify_data\n",
    "            WHERE gender IS NOT NULL AND level = 'paid'\n",
    "            \"\"\")"
   ]
  },
  {
   "cell_type": "code",
   "execution_count": 13,
   "id": "468fc43f",
   "metadata": {},
   "outputs": [
    {
     "data": {
      "text/html": [
       "<table border='1'>\n",
       "<tr><th>artist</th><th>auth</th><th>firstName</th><th>gender</th><th>itemInSession</th><th>lastName</th><th>length</th><th>level</th><th>location</th><th>method</th><th>page</th><th>registration</th><th>sessionId</th><th>song</th><th>status</th><th>ts</th><th>userAgent</th><th>userId</th></tr>\n",
       "<tr><td>Popol Vuh</td><td>Logged In</td><td>Shlok</td><td>M</td><td>278</td><td>Johnson</td><td>524.32934</td><td>paid</td><td>Dallas-Fort Worth...</td><td>PUT</td><td>NextSong</td><td>1533734541000</td><td>22683</td><td>Ich mache einen S...</td><td>200</td><td>1538352001000</td><td>&quot;Mozilla/5.0 (Win...</td><td>1749042</td></tr>\n",
       "<tr><td>Los Bunkers</td><td>Logged In</td><td>Vianney</td><td>F</td><td>9</td><td>Miller</td><td>238.39302</td><td>paid</td><td>San Francisco-Oak...</td><td>PUT</td><td>NextSong</td><td>1537500318000</td><td>20836</td><td>MiÃÂ©ntele</td><td>200</td><td>1538352002000</td><td>&quot;Mozilla/5.0 (Mac...</td><td>1563081</td></tr>\n",
       "<tr><td>Lush</td><td>Logged In</td><td>Vina</td><td>F</td><td>109</td><td>Bailey</td><td>140.35546</td><td>paid</td><td>Hilo, HI</td><td>PUT</td><td>NextSong</td><td>1536414505000</td><td>4593</td><td>Baby Talk</td><td>200</td><td>1538352002000</td><td>Mozilla/5.0 (Maci...</td><td>1697168</td></tr>\n",
       "<tr><td>Barry Tuckwell/Ac...</td><td>Logged In</td><td>Andres</td><td>M</td><td>71</td><td>Foley</td><td>277.15873</td><td>paid</td><td>Watertown, SD</td><td>PUT</td><td>NextSong</td><td>1534386660000</td><td>6370</td><td>Horn Concerto No....</td><td>200</td><td>1538352003000</td><td>&quot;Mozilla/5.0 (Mac...</td><td>1222580</td></tr>\n",
       "<tr><td>Yes</td><td>Logged In</td><td>Aaliyah</td><td>F</td><td>21</td><td>Ramirez</td><td>1121.25342</td><td>paid</td><td>Baltimore-Columbi...</td><td>PUT</td><td>NextSong</td><td>1537381415000</td><td>22316</td><td>Close To The Edge...</td><td>200</td><td>1538352003000</td><td>&quot;Mozilla/5.0 (Win...</td><td>1714398</td></tr>\n",
       "<tr><td>MGMT</td><td>Logged In</td><td>Ryan</td><td>M</td><td>8</td><td>Williams</td><td>229.25016</td><td>paid</td><td>Cape Coral-Fort M...</td><td>PUT</td><td>NextSong</td><td>1537602560000</td><td>23924</td><td>Electric Feel</td><td>200</td><td>1538352004000</td><td>&quot;Mozilla/5.0 (Win...</td><td>1010522</td></tr>\n",
       "<tr><td>The Cranberries</td><td>Logged In</td><td>Michael</td><td>M</td><td>13</td><td>Riley</td><td>183.87546</td><td>paid</td><td>Albany-Schenectad...</td><td>PUT</td><td>NextSong</td><td>1533220062000</td><td>3992</td><td>The Concept</td><td>200</td><td>1538352006000</td><td>&quot;Mozilla/5.0 (Win...</td><td>1605667</td></tr>\n",
       "<tr><td>Johnny Cash with ...</td><td>Logged In</td><td>Riley</td><td>F</td><td>300</td><td>Hernandez</td><td>199.81016</td><td>paid</td><td>Reading, PA</td><td>PUT</td><td>NextSong</td><td>1537618545000</td><td>14853</td><td>Nine Pound Hammer</td><td>200</td><td>1538352006000</td><td>&quot;Mozilla/5.0 (Mac...</td><td>1032628</td></tr>\n",
       "<tr><td>Los Prisioneros</td><td>Logged In</td><td>Brayden</td><td>M</td><td>95</td><td>Armstrong</td><td>248.78975</td><td>paid</td><td>Dallas-Fort Worth...</td><td>PUT</td><td>NextSong</td><td>1534635513000</td><td>23917</td><td>La Voz De Los &#x27;80</td><td>200</td><td>1538352007000</td><td>&quot;Mozilla/5.0 (Win...</td><td>1611729</td></tr>\n",
       "<tr><td>The White Stripes</td><td>Logged In</td><td>Brooke</td><td>F</td><td>6</td><td>Kirby</td><td>126.40608</td><td>paid</td><td>Los Angeles-Long ...</td><td>PUT</td><td>NextSong</td><td>1531817572000</td><td>14085</td><td>Good To Me</td><td>200</td><td>1538352008000</td><td>&quot;Mozilla/5.0 (Win...</td><td>1497881</td></tr>\n",
       "<tr><td>null</td><td>Logged In</td><td>Valarie</td><td>F</td><td>206</td><td>Moore</td><td>null</td><td>paid</td><td>Los Angeles-Long ...</td><td>GET</td><td>Home</td><td>1537790336000</td><td>2948</td><td>null</td><td>200</td><td>1538352008000</td><td>&quot;Mozilla/5.0 (Win...</td><td>1009070</td></tr>\n",
       "<tr><td>Five Finger Death...</td><td>Logged In</td><td>David</td><td>M</td><td>190</td><td>Ortiz</td><td>262.42567</td><td>paid</td><td>Atlanta-Sandy Spr...</td><td>PUT</td><td>NextSong</td><td>1536984036000</td><td>22596</td><td>Bad Company</td><td>200</td><td>1538352012000</td><td>&quot;Mozilla/5.0 (Mac...</td><td>1834381</td></tr>\n",
       "<tr><td>Brooks &amp; Dunn</td><td>Logged In</td><td>Elizabeth</td><td>F</td><td>182</td><td>Quinn</td><td>169.97832</td><td>paid</td><td>St. Louis, MO-IL</td><td>PUT</td><td>NextSong</td><td>1530607056000</td><td>506</td><td>She&#x27;s About As Lo...</td><td>200</td><td>1538352012000</td><td>Mozilla/5.0 (Wind...</td><td>1558459</td></tr>\n",
       "<tr><td>null</td><td>Logged In</td><td>Anthony</td><td>M</td><td>12</td><td>Diaz</td><td>null</td><td>paid</td><td>New York-Newark-J...</td><td>GET</td><td>Error</td><td>1538045178000</td><td>11807</td><td>null</td><td>404</td><td>1538352013000</td><td>&quot;Mozilla/5.0 (Mac...</td><td>1507202</td></tr>\n",
       "<tr><td>Iron And Wine</td><td>Logged In</td><td>Zaki</td><td>M</td><td>329</td><td>Bowen</td><td>242.36363</td><td>paid</td><td>Phoenix-Mesa-Scot...</td><td>PUT</td><td>NextSong</td><td>1537918970000</td><td>1726</td><td>Carousel (Album)</td><td>200</td><td>1538352013000</td><td>&quot;Mozilla/5.0 (Mac...</td><td>1638697</td></tr>\n",
       "<tr><td>Five Finger Death...</td><td>Logged In</td><td>Noah</td><td>M</td><td>391</td><td>Brown</td><td>262.42567</td><td>paid</td><td>Utica-Rome, NY</td><td>PUT</td><td>NextSong</td><td>1537541756000</td><td>18307</td><td>Bad Company</td><td>200</td><td>1538352013000</td><td>&quot;Mozilla/5.0 (Win...</td><td>1063929</td></tr>\n",
       "<tr><td>Selena</td><td>Logged In</td><td>Charline</td><td>F</td><td>45</td><td>Sexton</td><td>172.66893</td><td>paid</td><td>Houston-The Woodl...</td><td>PUT</td><td>NextSong</td><td>1536399908000</td><td>22763</td><td>Amor Prohibido</td><td>200</td><td>1538352014000</td><td>Mozilla/5.0 (Wind...</td><td>1959680</td></tr>\n",
       "<tr><td>Paramore</td><td>Logged In</td><td>Logan</td><td>M</td><td>161</td><td>Gregory</td><td>218.09587</td><td>paid</td><td>Marshall, TX</td><td>PUT</td><td>NextSong</td><td>1537448916000</td><td>19480</td><td>Ignorance (Album ...</td><td>200</td><td>1538352015000</td><td>&quot;Mozilla/5.0 (Win...</td><td>1390009</td></tr>\n",
       "<tr><td>Family Force 5</td><td>Logged In</td><td>Andres</td><td>M</td><td>188</td><td>Robles</td><td>219.79383</td><td>paid</td><td>Ocala, FL</td><td>PUT</td><td>NextSong</td><td>1538099365000</td><td>646</td><td>Radiator</td><td>200</td><td>1538352015000</td><td>&quot;Mozilla/5.0 (Mac...</td><td>1915980</td></tr>\n",
       "<tr><td>Baby Bash / Grimm...</td><td>Logged In</td><td>Elizabeth</td><td>F</td><td>57</td><td>Castillo</td><td>259.83955</td><td>paid</td><td>Hickory-Lenoir-Mo...</td><td>PUT</td><td>NextSong</td><td>1536079794000</td><td>13796</td><td>Weed Hand</td><td>200</td><td>1538352016000</td><td>&quot;Mozilla/5.0 (iPh...</td><td>1429412</td></tr>\n",
       "</table>\n",
       "only showing top 20 rows\n"
      ],
      "text/plain": [
       "+--------------------+---------+---------+------+-------------+---------+----------+-----+--------------------+------+--------+-------------+---------+--------------------+------+-------------+--------------------+-------+\n",
       "|              artist|     auth|firstName|gender|itemInSession| lastName|    length|level|            location|method|    page| registration|sessionId|                song|status|           ts|           userAgent| userId|\n",
       "+--------------------+---------+---------+------+-------------+---------+----------+-----+--------------------+------+--------+-------------+---------+--------------------+------+-------------+--------------------+-------+\n",
       "|           Popol Vuh|Logged In|    Shlok|     M|          278|  Johnson| 524.32934| paid|Dallas-Fort Worth...|   PUT|NextSong|1533734541000|    22683|Ich mache einen S...|   200|1538352001000|\"Mozilla/5.0 (Win...|1749042|\n",
       "|         Los Bunkers|Logged In|  Vianney|     F|            9|   Miller| 238.39302| paid|San Francisco-Oak...|   PUT|NextSong|1537500318000|    20836|         MiÃÂ©ntele|   200|1538352002000|\"Mozilla/5.0 (Mac...|1563081|\n",
       "|                Lush|Logged In|     Vina|     F|          109|   Bailey| 140.35546| paid|            Hilo, HI|   PUT|NextSong|1536414505000|     4593|           Baby Talk|   200|1538352002000|Mozilla/5.0 (Maci...|1697168|\n",
       "|Barry Tuckwell/Ac...|Logged In|   Andres|     M|           71|    Foley| 277.15873| paid|       Watertown, SD|   PUT|NextSong|1534386660000|     6370|Horn Concerto No....|   200|1538352003000|\"Mozilla/5.0 (Mac...|1222580|\n",
       "|                 Yes|Logged In|  Aaliyah|     F|           21|  Ramirez|1121.25342| paid|Baltimore-Columbi...|   PUT|NextSong|1537381415000|    22316|Close To The Edge...|   200|1538352003000|\"Mozilla/5.0 (Win...|1714398|\n",
       "|                MGMT|Logged In|     Ryan|     M|            8| Williams| 229.25016| paid|Cape Coral-Fort M...|   PUT|NextSong|1537602560000|    23924|       Electric Feel|   200|1538352004000|\"Mozilla/5.0 (Win...|1010522|\n",
       "|     The Cranberries|Logged In|  Michael|     M|           13|    Riley| 183.87546| paid|Albany-Schenectad...|   PUT|NextSong|1533220062000|     3992|         The Concept|   200|1538352006000|\"Mozilla/5.0 (Win...|1605667|\n",
       "|Johnny Cash with ...|Logged In|    Riley|     F|          300|Hernandez| 199.81016| paid|         Reading, PA|   PUT|NextSong|1537618545000|    14853|   Nine Pound Hammer|   200|1538352006000|\"Mozilla/5.0 (Mac...|1032628|\n",
       "|     Los Prisioneros|Logged In|  Brayden|     M|           95|Armstrong| 248.78975| paid|Dallas-Fort Worth...|   PUT|NextSong|1534635513000|    23917|   La Voz De Los '80|   200|1538352007000|\"Mozilla/5.0 (Win...|1611729|\n",
       "|   The White Stripes|Logged In|   Brooke|     F|            6|    Kirby| 126.40608| paid|Los Angeles-Long ...|   PUT|NextSong|1531817572000|    14085|          Good To Me|   200|1538352008000|\"Mozilla/5.0 (Win...|1497881|\n",
       "|                null|Logged In|  Valarie|     F|          206|    Moore|      null| paid|Los Angeles-Long ...|   GET|    Home|1537790336000|     2948|                null|   200|1538352008000|\"Mozilla/5.0 (Win...|1009070|\n",
       "|Five Finger Death...|Logged In|    David|     M|          190|    Ortiz| 262.42567| paid|Atlanta-Sandy Spr...|   PUT|NextSong|1536984036000|    22596|         Bad Company|   200|1538352012000|\"Mozilla/5.0 (Mac...|1834381|\n",
       "|       Brooks & Dunn|Logged In|Elizabeth|     F|          182|    Quinn| 169.97832| paid|    St. Louis, MO-IL|   PUT|NextSong|1530607056000|      506|She's About As Lo...|   200|1538352012000|Mozilla/5.0 (Wind...|1558459|\n",
       "|                null|Logged In|  Anthony|     M|           12|     Diaz|      null| paid|New York-Newark-J...|   GET|   Error|1538045178000|    11807|                null|   404|1538352013000|\"Mozilla/5.0 (Mac...|1507202|\n",
       "|       Iron And Wine|Logged In|     Zaki|     M|          329|    Bowen| 242.36363| paid|Phoenix-Mesa-Scot...|   PUT|NextSong|1537918970000|     1726|    Carousel (Album)|   200|1538352013000|\"Mozilla/5.0 (Mac...|1638697|\n",
       "|Five Finger Death...|Logged In|     Noah|     M|          391|    Brown| 262.42567| paid|      Utica-Rome, NY|   PUT|NextSong|1537541756000|    18307|         Bad Company|   200|1538352013000|\"Mozilla/5.0 (Win...|1063929|\n",
       "|              Selena|Logged In| Charline|     F|           45|   Sexton| 172.66893| paid|Houston-The Woodl...|   PUT|NextSong|1536399908000|    22763|      Amor Prohibido|   200|1538352014000|Mozilla/5.0 (Wind...|1959680|\n",
       "|            Paramore|Logged In|    Logan|     M|          161|  Gregory| 218.09587| paid|        Marshall, TX|   PUT|NextSong|1537448916000|    19480|Ignorance (Album ...|   200|1538352015000|\"Mozilla/5.0 (Win...|1390009|\n",
       "|      Family Force 5|Logged In|   Andres|     M|          188|   Robles| 219.79383| paid|           Ocala, FL|   PUT|NextSong|1538099365000|      646|            Radiator|   200|1538352015000|\"Mozilla/5.0 (Mac...|1915980|\n",
       "|Baby Bash / Grimm...|Logged In|Elizabeth|     F|           57| Castillo| 259.83955| paid|Hickory-Lenoir-Mo...|   PUT|NextSong|1536079794000|    13796|           Weed Hand|   200|1538352016000|\"Mozilla/5.0 (iPh...|1429412|\n",
       "+--------------------+---------+---------+------+-------------+---------+----------+-----+--------------------+------+--------+-------------+---------+--------------------+------+-------------+--------------------+-------+\n",
       "only showing top 20 rows"
      ]
     },
     "execution_count": 13,
     "metadata": {},
     "output_type": "execute_result"
    }
   ],
   "source": [
    "df_filter"
   ]
  },
  {
   "cell_type": "code",
   "execution_count": 14,
   "id": "4e55770e",
   "metadata": {},
   "outputs": [],
   "source": [
    "# We create a temp table named data\n",
    "df_filter.createOrReplaceTempView(\"data\")"
   ]
  },
  {
   "cell_type": "code",
   "execution_count": 15,
   "id": "f2fc1e46",
   "metadata": {},
   "outputs": [
    {
     "name": "stderr",
     "output_type": "stream",
     "text": [
      "                                                                                \r"
     ]
    },
    {
     "data": {
      "text/html": [
       "<table border='1'>\n",
       "<tr><th>page</th><th>count</th></tr>\n",
       "<tr><td>Cancel</td><td>3424</td></tr>\n",
       "<tr><td>Submit Downgrade</td><td>5103</td></tr>\n",
       "<tr><td>Thumbs Down</td><td>14850</td></tr>\n",
       "<tr><td>Home</td><td>16133</td></tr>\n",
       "<tr><td>Downgrade</td><td>15209</td></tr>\n",
       "<tr><td>Roll Advert</td><td>8956</td></tr>\n",
       "<tr><td>Logout</td><td>15082</td></tr>\n",
       "<tr><td>Save Settings</td><td>9273</td></tr>\n",
       "<tr><td>Cancellation Conf...</td><td>3424</td></tr>\n",
       "<tr><td>About</td><td>11129</td></tr>\n",
       "<tr><td>Settings</td><td>14046</td></tr>\n",
       "<tr><td>Add to Playlist</td><td>15630</td></tr>\n",
       "<tr><td>Add Friend</td><td>14989</td></tr>\n",
       "<tr><td>NextSong</td><td>16152</td></tr>\n",
       "<tr><td>Thumbs Up</td><td>15865</td></tr>\n",
       "<tr><td>Help</td><td>13829</td></tr>\n",
       "<tr><td>Error</td><td>8713</td></tr>\n",
       "</table>\n"
      ],
      "text/plain": [
       "+--------------------+-----+\n",
       "|                page|count|\n",
       "+--------------------+-----+\n",
       "|              Cancel| 3424|\n",
       "|    Submit Downgrade| 5103|\n",
       "|         Thumbs Down|14850|\n",
       "|                Home|16133|\n",
       "|           Downgrade|15209|\n",
       "|         Roll Advert| 8956|\n",
       "|              Logout|15082|\n",
       "|       Save Settings| 9273|\n",
       "|Cancellation Conf...| 3424|\n",
       "|               About|11129|\n",
       "|            Settings|14046|\n",
       "|     Add to Playlist|15630|\n",
       "|          Add Friend|14989|\n",
       "|            NextSong|16152|\n",
       "|           Thumbs Up|15865|\n",
       "|                Help|13829|\n",
       "|               Error| 8713|\n",
       "+--------------------+-----+"
      ]
     },
     "execution_count": 15,
     "metadata": {},
     "output_type": "execute_result"
    }
   ],
   "source": [
    "spark.sql(\"\"\"\n",
    "        WITH events AS(\n",
    "        SELECT userID, page, COUNT(page) FROM data\n",
    "        GROUP BY userId, page)\n",
    "        \n",
    "        SELECT page, COUNT(page) AS count FROM events\n",
    "        GROUP BY page\n",
    "        \"\"\")"
   ]
  },
  {
   "cell_type": "code",
   "execution_count": 16,
   "id": "4e4f6d77",
   "metadata": {},
   "outputs": [],
   "source": [
    "data = spark.sql(\"\"\"\n",
    "        SELECT BIGINT(userId),\n",
    "        gender,\n",
    "        COUNT(page) AS n_pages,\n",
    "        COUNT(IF(page='Submit Downgrade',1,NULL)) AS submit_downgrade,\n",
    "        COUNT(IF(page='Thumbs Down',1,NULL)) AS thumbs_down,\n",
    "        COUNT(IF(page='Home',1,NULL)) AS home,\n",
    "        COUNT(IF(page='Downgrade',1,NULL)) AS downgrade,\n",
    "        COUNT(IF(page='Roll Advert',1,NULL)) AS roll_advert,\n",
    "        COUNT(IF(page='Cancellation Confirmation',1,NULL)) AS cancellation,\n",
    "        COUNT(IF(page='About',1,NULL)) AS about,\n",
    "        COUNT(IF(page='Submit Registration',1,NULL)) AS submit_registration,\n",
    "        COUNT(IF(page='Cancel',1,NULL)) AS cancel,\n",
    "        COUNT(IF(page='Login',1,NULL)) AS login,\n",
    "        COUNT(IF(page='Register',1,NULL)) AS register,\n",
    "        COUNT(IF(page='Add to Playlist',1,NULL)) AS add_playlist,\n",
    "        COUNT(IF(page='NextSong',1,NULL)) AS nextsong,\n",
    "        COUNT(IF(page='Thumbs Up',1,NULL)) AS thumbs_up,\n",
    "        COUNT(IF(page='Error',1,NULL)) AS error,\n",
    "        COUNT(IF(page='Submit Upgrade',1,NULL)) AS submit_upgrade,\n",
    "        CEILING(SUM(length)) AS total_length\n",
    "        FROM sparkify_data \n",
    "        GROUP BY userId,gender\n",
    "\n",
    "    \"\"\")"
   ]
  },
  {
   "cell_type": "code",
   "execution_count": 17,
   "id": "79b22b9d",
   "metadata": {},
   "outputs": [],
   "source": [
    "churn = udf(lambda x: 1 if x>0 else 0, IntegerType())\n",
    "gender = udf(lambda x: 1 if x=='M' else 0, IntegerType())"
   ]
  },
  {
   "cell_type": "code",
   "execution_count": 18,
   "id": "f99e759a",
   "metadata": {},
   "outputs": [],
   "source": [
    "data = data.withColumn('label', churn('submit_downgrade'))\n",
    "data = data.withColumn('gender', gender('gender'))"
   ]
  },
  {
   "cell_type": "code",
   "execution_count": 19,
   "id": "f9c8ced8",
   "metadata": {},
   "outputs": [
    {
     "name": "stderr",
     "output_type": "stream",
     "text": [
      "                                                                                \r"
     ]
    }
   ],
   "source": [
    "data.coalesce(1).write.options(header='True', delimiter=',').csv(\"features\")"
   ]
  }
 ],
 "metadata": {
  "kernelspec": {
   "display_name": "Python 3 (ipykernel)",
   "language": "python",
   "name": "python3"
  },
  "language_info": {
   "codemirror_mode": {
    "name": "ipython",
    "version": 3
   },
   "file_extension": ".py",
   "mimetype": "text/x-python",
   "name": "python",
   "nbconvert_exporter": "python",
   "pygments_lexer": "ipython3",
   "version": "3.8.15"
  }
 },
 "nbformat": 4,
 "nbformat_minor": 5
}
